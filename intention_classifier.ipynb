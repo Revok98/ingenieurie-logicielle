{
 "cells": [
  {
   "cell_type": "code",
   "execution_count": 1,
   "metadata": {},
   "outputs": [],
   "source": [
    "import numpy as np\n",
    "import pandas as pd\n",
    "import matplotlib.pyplot as plt\n",
    "import seaborn as sns\n",
    "import json\n",
    "import re\n",
    "%matplotlib inline"
   ]
  },
  {
   "cell_type": "code",
   "execution_count": 2,
   "metadata": {},
   "outputs": [],
   "source": [
    "with open(\"data/training_set.json\") as datafile:\n",
    "  data_training = json.load(datafile)\n",
    "training_set = pd.DataFrame(data_training)\n",
    "\n",
    "with open(\"data/testing_set.json\") as datafile:\n",
    "  data_testing = json.load(datafile)\n",
    "testing_set = pd.DataFrame(data_testing)"
   ]
  },
  {
   "cell_type": "code",
   "execution_count": 3,
   "metadata": {},
   "outputs": [
    {
     "data": {
      "text/html": [
       "<div>\n",
       "<style scoped>\n",
       "    .dataframe tbody tr th:only-of-type {\n",
       "        vertical-align: middle;\n",
       "    }\n",
       "\n",
       "    .dataframe tbody tr th {\n",
       "        vertical-align: top;\n",
       "    }\n",
       "\n",
       "    .dataframe thead th {\n",
       "        text-align: right;\n",
       "    }\n",
       "</style>\n",
       "<table border=\"1\" class=\"dataframe\">\n",
       "  <thead>\n",
       "    <tr style=\"text-align: right;\">\n",
       "      <th></th>\n",
       "      <th>intent</th>\n",
       "      <th>sentence</th>\n",
       "    </tr>\n",
       "  </thead>\n",
       "  <tbody>\n",
       "    <tr>\n",
       "      <th>0</th>\n",
       "      <td>irrelevant</td>\n",
       "      <td>850€ maximum pour le loyer, à partir de janvie...</td>\n",
       "    </tr>\n",
       "    <tr>\n",
       "      <th>1</th>\n",
       "      <td>irrelevant</td>\n",
       "      <td>D'imprimer</td>\n",
       "    </tr>\n",
       "    <tr>\n",
       "      <th>2</th>\n",
       "      <td>purchase</td>\n",
       "      <td>Le meilleur cabriolet hybrid moins de 5m10 min...</td>\n",
       "    </tr>\n",
       "    <tr>\n",
       "      <th>3</th>\n",
       "      <td>find-hotel</td>\n",
       "      <td>en ce moment je cher un location pour les vaca...</td>\n",
       "    </tr>\n",
       "    <tr>\n",
       "      <th>4</th>\n",
       "      <td>irrelevant</td>\n",
       "      <td>c'est possible de t'utiliser la nuit ?</td>\n",
       "    </tr>\n",
       "    <tr>\n",
       "      <th>5</th>\n",
       "      <td>irrelevant</td>\n",
       "      <td>J'ai besoin d'acheter un fusil</td>\n",
       "    </tr>\n",
       "    <tr>\n",
       "      <th>6</th>\n",
       "      <td>irrelevant</td>\n",
       "      <td>Vous pouvez réserver pour 09h oui</td>\n",
       "    </tr>\n",
       "    <tr>\n",
       "      <th>7</th>\n",
       "      <td>irrelevant</td>\n",
       "      <td>Du 20 au 22 novembre pour 100-150 euros la nuit</td>\n",
       "    </tr>\n",
       "    <tr>\n",
       "      <th>8</th>\n",
       "      <td>purchase</td>\n",
       "      <td>Mon docteur m'a suggéré de porter des bandes p...</td>\n",
       "    </tr>\n",
       "    <tr>\n",
       "      <th>9</th>\n",
       "      <td>purchase</td>\n",
       "      <td>Commande à effectuer : 30 bloc note petits car...</td>\n",
       "    </tr>\n",
       "  </tbody>\n",
       "</table>\n",
       "</div>"
      ],
      "text/plain": [
       "       intent                                           sentence\n",
       "0  irrelevant  850€ maximum pour le loyer, à partir de janvie...\n",
       "1  irrelevant                                         D'imprimer\n",
       "2    purchase  Le meilleur cabriolet hybrid moins de 5m10 min...\n",
       "3  find-hotel  en ce moment je cher un location pour les vaca...\n",
       "4  irrelevant             c'est possible de t'utiliser la nuit ?\n",
       "5  irrelevant                     J'ai besoin d'acheter un fusil\n",
       "6  irrelevant                  Vous pouvez réserver pour 09h oui\n",
       "7  irrelevant    Du 20 au 22 novembre pour 100-150 euros la nuit\n",
       "8    purchase  Mon docteur m'a suggéré de porter des bandes p...\n",
       "9    purchase  Commande à effectuer : 30 bloc note petits car..."
      ]
     },
     "execution_count": 3,
     "metadata": {},
     "output_type": "execute_result"
    }
   ],
   "source": [
    "training_set.head(10)"
   ]
  },
  {
   "cell_type": "code",
   "execution_count": 4,
   "metadata": {},
   "outputs": [
    {
     "data": {
      "text/html": [
       "<div>\n",
       "<style scoped>\n",
       "    .dataframe tbody tr th:only-of-type {\n",
       "        vertical-align: middle;\n",
       "    }\n",
       "\n",
       "    .dataframe tbody tr th {\n",
       "        vertical-align: top;\n",
       "    }\n",
       "\n",
       "    .dataframe thead th {\n",
       "        text-align: right;\n",
       "    }\n",
       "</style>\n",
       "<table border=\"1\" class=\"dataframe\">\n",
       "  <thead>\n",
       "    <tr style=\"text-align: right;\">\n",
       "      <th></th>\n",
       "      <th>intent</th>\n",
       "      <th>sentence</th>\n",
       "    </tr>\n",
       "  </thead>\n",
       "  <tbody>\n",
       "    <tr>\n",
       "      <th>0</th>\n",
       "      <td>irrelevant</td>\n",
       "      <td>Tu sais où je peux acheter un bazooka ?</td>\n",
       "    </tr>\n",
       "    <tr>\n",
       "      <th>1</th>\n",
       "      <td>irrelevant</td>\n",
       "      <td>déco de maison style maison ferret</td>\n",
       "    </tr>\n",
       "    <tr>\n",
       "      <th>2</th>\n",
       "      <td>irrelevant</td>\n",
       "      <td>j'ai envie qu'on se rencontre</td>\n",
       "    </tr>\n",
       "    <tr>\n",
       "      <th>3</th>\n",
       "      <td>purchase</td>\n",
       "      <td>J’ai besoin de fleurs pr ma grand mère</td>\n",
       "    </tr>\n",
       "    <tr>\n",
       "      <th>4</th>\n",
       "      <td>find-restaurant</td>\n",
       "      <td>trouve à champigny-sur-marne où manger de la c...</td>\n",
       "    </tr>\n",
       "    <tr>\n",
       "      <th>5</th>\n",
       "      <td>irrelevant</td>\n",
       "      <td>Réécoutez</td>\n",
       "    </tr>\n",
       "    <tr>\n",
       "      <th>6</th>\n",
       "      <td>find-train</td>\n",
       "      <td>trouve-moi un billet de train demain pour Angers</td>\n",
       "    </tr>\n",
       "    <tr>\n",
       "      <th>7</th>\n",
       "      <td>irrelevant</td>\n",
       "      <td>idiwii, Logement avec cuisine</td>\n",
       "    </tr>\n",
       "    <tr>\n",
       "      <th>8</th>\n",
       "      <td>irrelevant</td>\n",
       "      <td>Il faudrait que tu me fasses un devis pour le ...</td>\n",
       "    </tr>\n",
       "    <tr>\n",
       "      <th>9</th>\n",
       "      <td>irrelevant</td>\n",
       "      <td>Pas du tout, c'est le sf de valthorens</td>\n",
       "    </tr>\n",
       "  </tbody>\n",
       "</table>\n",
       "</div>"
      ],
      "text/plain": [
       "            intent                                           sentence\n",
       "0       irrelevant            Tu sais où je peux acheter un bazooka ?\n",
       "1       irrelevant                 déco de maison style maison ferret\n",
       "2       irrelevant                      j'ai envie qu'on se rencontre\n",
       "3         purchase             J’ai besoin de fleurs pr ma grand mère\n",
       "4  find-restaurant  trouve à champigny-sur-marne où manger de la c...\n",
       "5       irrelevant                                          Réécoutez\n",
       "6       find-train   trouve-moi un billet de train demain pour Angers\n",
       "7       irrelevant                      idiwii, Logement avec cuisine\n",
       "8       irrelevant  Il faudrait que tu me fasses un devis pour le ...\n",
       "9       irrelevant             Pas du tout, c'est le sf de valthorens"
      ]
     },
     "execution_count": 4,
     "metadata": {},
     "output_type": "execute_result"
    }
   ],
   "source": [
    "testing_set.head(10)"
   ]
  },
  {
   "cell_type": "code",
   "execution_count": 5,
   "metadata": {},
   "outputs": [
    {
     "data": {
      "text/html": [
       "<div>\n",
       "<style scoped>\n",
       "    .dataframe tbody tr th:only-of-type {\n",
       "        vertical-align: middle;\n",
       "    }\n",
       "\n",
       "    .dataframe tbody tr th {\n",
       "        vertical-align: top;\n",
       "    }\n",
       "\n",
       "    .dataframe thead th {\n",
       "        text-align: right;\n",
       "    }\n",
       "</style>\n",
       "<table border=\"1\" class=\"dataframe\">\n",
       "  <thead>\n",
       "    <tr style=\"text-align: right;\">\n",
       "      <th></th>\n",
       "      <th>intent</th>\n",
       "      <th>sentence</th>\n",
       "    </tr>\n",
       "  </thead>\n",
       "  <tbody>\n",
       "    <tr>\n",
       "      <th>count</th>\n",
       "      <td>6035</td>\n",
       "      <td>6035</td>\n",
       "    </tr>\n",
       "    <tr>\n",
       "      <th>unique</th>\n",
       "      <td>8</td>\n",
       "      <td>6035</td>\n",
       "    </tr>\n",
       "    <tr>\n",
       "      <th>top</th>\n",
       "      <td>irrelevant</td>\n",
       "      <td>A partir de novembre avec 800 euros de loyer</td>\n",
       "    </tr>\n",
       "    <tr>\n",
       "      <th>freq</th>\n",
       "      <td>3852</td>\n",
       "      <td>1</td>\n",
       "    </tr>\n",
       "  </tbody>\n",
       "</table>\n",
       "</div>"
      ],
      "text/plain": [
       "            intent                                      sentence\n",
       "count         6035                                          6035\n",
       "unique           8                                          6035\n",
       "top     irrelevant  A partir de novembre avec 800 euros de loyer\n",
       "freq          3852                                             1"
      ]
     },
     "execution_count": 5,
     "metadata": {},
     "output_type": "execute_result"
    }
   ],
   "source": [
    "training_set.describe()"
   ]
  },
  {
   "cell_type": "code",
   "execution_count": 6,
   "metadata": {},
   "outputs": [
    {
     "data": {
      "text/html": [
       "<div>\n",
       "<style scoped>\n",
       "    .dataframe tbody tr th:only-of-type {\n",
       "        vertical-align: middle;\n",
       "    }\n",
       "\n",
       "    .dataframe tbody tr th {\n",
       "        vertical-align: top;\n",
       "    }\n",
       "\n",
       "    .dataframe thead th {\n",
       "        text-align: right;\n",
       "    }\n",
       "</style>\n",
       "<table border=\"1\" class=\"dataframe\">\n",
       "  <thead>\n",
       "    <tr style=\"text-align: right;\">\n",
       "      <th></th>\n",
       "      <th>intent</th>\n",
       "      <th>sentence</th>\n",
       "    </tr>\n",
       "  </thead>\n",
       "  <tbody>\n",
       "    <tr>\n",
       "      <th>count</th>\n",
       "      <td>1065</td>\n",
       "      <td>1065</td>\n",
       "    </tr>\n",
       "    <tr>\n",
       "      <th>unique</th>\n",
       "      <td>8</td>\n",
       "      <td>1064</td>\n",
       "    </tr>\n",
       "    <tr>\n",
       "      <th>top</th>\n",
       "      <td>irrelevant</td>\n",
       "      <td>Est ce que tu connais des sites internet sur l...</td>\n",
       "    </tr>\n",
       "    <tr>\n",
       "      <th>freq</th>\n",
       "      <td>677</td>\n",
       "      <td>2</td>\n",
       "    </tr>\n",
       "  </tbody>\n",
       "</table>\n",
       "</div>"
      ],
      "text/plain": [
       "            intent                                           sentence\n",
       "count         1065                                               1065\n",
       "unique           8                                               1064\n",
       "top     irrelevant  Est ce que tu connais des sites internet sur l...\n",
       "freq           677                                                  2"
      ]
     },
     "execution_count": 6,
     "metadata": {},
     "output_type": "execute_result"
    }
   ],
   "source": [
    "testing_set.describe()"
   ]
  },
  {
   "cell_type": "code",
   "execution_count": 7,
   "metadata": {},
   "outputs": [],
   "source": [
    "def create_occurences_dict(data):\n",
    "    occurences_of_classes = {}\n",
    "    for i in range (len(data)):\n",
    "        if data[i][\"intent\"] in occurences_of_classes:\n",
    "            occurences_of_classes[data[i][\"intent\"]] += 1 #sans doute récupérable plus simplement, à factoriser\n",
    "        else :\n",
    "            occurences_of_classes[data[i][\"intent\"]] = 1\n",
    "    return occurences_of_classes\n",
    "\n",
    "\n",
    "def mean_letters_per_class(data):\n",
    "    letters_p_classes = {}\n",
    "    occurences_of_classes = create_occurences_dict(data)\n",
    "    for i in range (len(data)):\n",
    "        if data[i][\"intent\"] in letters_p_classes:\n",
    "            letters_p_classes[data[i][\"intent\"]] += len(data[i][\"sentence\"])\n",
    "        else :\n",
    "            letters_p_classes[data[i][\"intent\"]] = len(data[i][\"sentence\"])\n",
    "\n",
    "    for i in letters_p_classes:\n",
    "        letters_p_classes[i] = letters_p_classes[i]/occurences_of_classes[i]\n",
    "\n",
    "    return letters_p_classes\n",
    "\n",
    "def mean_utterances_per_class(data):\n",
    "    occurences_of_classes = create_occurences_dict(data)\n",
    "    utterances_of_classes = {}\n",
    "    for i in range (len(data)):\n",
    "        if data[i][\"intent\"] in utterances_of_classes:\n",
    "            utterances_of_classes[data[i][\"intent\"]] += len(re.split(r'(?<!\\w\\.\\w.)(?<![A-Z][a-z]\\.)(?<=\\.|\\?)\\s',data[i][\"sentence\"]))\n",
    "        else :\n",
    "            utterances_of_classes[data[i][\"intent\"]] = len(re.split(r'(?<!\\w\\.\\w.)(?<![A-Z][a-z]\\.)(?<=\\.|\\?)\\s',data[i][\"sentence\"]))\n",
    "\n",
    "\n",
    "    for i in utterances_of_classes:\n",
    "        utterances_of_classes[i] = utterances_of_classes[i]/occurences_of_classes[i]\n",
    "    return utterances_of_classes\n",
    "\n",
    "def plot_dictionnary(dict_to_show):\n",
    "    sns.set_theme(style=\"whitegrid\")\n",
    "    data = pd.DataFrame({'Value': list(dict_to_show.values()), 'Label': list(dict_to_show.keys())})\n",
    "    ax = sns.barplot(y = \"Label\", x = \"Value\", data=data)\n",
    "\n"
   ]
  },
  {
   "cell_type": "code",
   "execution_count": 8,
   "metadata": {},
   "outputs": [
    {
     "data": {
      "image/png": "[encoded data removed]",
      "text/plain": [
       "<Figure size 432x288 with 1 Axes>"
      ]
     },
     "metadata": {},
     "output_type": "display_data"
    }
   ],
   "source": [
    "plot_dictionnary(mean_letters_per_class(data_training))"
   ]
  },
  {
   "cell_type": "code",
   "execution_count": 9,
   "metadata": {},
   "outputs": [
    {
     "data": {
      "image/png": "[encoded data removed]",
      "text/plain": [
       "<Figure size 432x288 with 1 Axes>"
      ]
     },
     "metadata": {},
     "output_type": "display_data"
    }
   ],
   "source": [
    "plot_dictionnary(create_occurences_dict(data_training))"
   ]
  },
  {
   "cell_type": "code",
   "execution_count": 10,
   "metadata": {},
   "outputs": [
    {
     "data": {
      "image/png": "[encoded data removed]",
      "text/plain": [
       "<Figure size 432x288 with 1 Axes>"
      ]
     },
     "metadata": {},
     "output_type": "display_data"
    }
   ],
   "source": [
    "plot_dictionnary(mean_utterances_per_class(data_training))"
   ]
  },
  {
   "cell_type": "code",
   "execution_count": null,
   "metadata": {},
   "outputs": [],
   "source": []
  }
 ],
 "metadata": {
  "kernelspec": {
   "display_name": "Python 3",
   "language": "python",
   "name": "python3"
  },
  "language_info": {
   "codemirror_mode": {
    "name": "ipython",
    "version": 3
   },
   "file_extension": ".py",
   "mimetype": "text/x-python",
   "name": "python",
   "nbconvert_exporter": "python",
   "pygments_lexer": "ipython3",
   "version": "3.8.5"
  }
 },
 "nbformat": 4,
 "nbformat_minor": 4
}
