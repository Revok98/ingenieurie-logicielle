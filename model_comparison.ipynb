{
 "cells": [
  {
   "cell_type": "code",
   "execution_count": 7,
   "metadata": {},
   "outputs": [],
   "source": [
    "import requests\n",
    "import json\n",
    "import pandas as pd\n",
    "from utils.predictions import stats_by_intent, print_stats_by_intent\n",
    "\n"
   ]
  },
  {
   "cell_type": "code",
   "execution_count": 10,
   "metadata": {},
   "outputs": [
    {
     "name": "stdout",
     "output_type": "stream",
     "text": [
      "                      TP     FP  TP+FN  TP+FP  precision    recall\n",
      "find-train          14.0    1.0   21.0   15.0   0.933333  0.666667\n",
      "irrelevant         663.0  176.0  677.0  839.0   0.790226  0.979321\n",
      "find-flight          7.0    1.0   24.0    8.0   0.875000  0.291667\n",
      "find-restaurant     52.0    1.0   93.0   53.0   0.981132  0.559140\n",
      "purchase            67.0   18.0  114.0   85.0   0.788235  0.587719\n",
      "find-around-me      29.0    4.0   67.0   33.0   0.878788  0.432836\n",
      "provide-showtimes    4.0    1.0   14.0    5.0   0.800000  0.285714\n",
      "find-hotel          21.0    6.0   55.0   27.0   0.777778  0.381818\n",
      "avg precision:  0.8530616024449811\n",
      "avg recall:  0.5231101545888661\n",
      "                      TP    FP  TP+FN  TP+FP  precision    recall\n",
      "purchase            80.0  12.0  114.0   92.0   0.869565  0.701754\n",
      "find-around-me      42.0  24.0   67.0   66.0   0.636364  0.626866\n",
      "find-restaurant     75.0  11.0   93.0   86.0   0.872093  0.806452\n",
      "irrelevant         632.0  80.0  677.0  712.0   0.887640  0.933530\n",
      "provide-showtimes   12.0   4.0   14.0   16.0   0.750000  0.857143\n",
      "find-flight         18.0   1.0   24.0   19.0   0.947368  0.750000\n",
      "find-hotel          37.0  14.0   55.0   51.0   0.725490  0.672727\n",
      "find-train          18.0   5.0   21.0   23.0   0.782609  0.857143\n",
      "avg precision:  0.8088912049040242\n",
      "avg recall:  0.7757018672716053\n"
     ]
    }
   ],
   "source": [
    "with open('data/predict.json', encoding=\"utf8\") as f:\n",
    "    predictions = json.load(f)\n",
    "with open('data/predict2.json', encoding=\"utf8\") as f:\n",
    "    our_predictions = json.load(f)\n",
    "with open('data/testing_set.json', encoding=\"utf8\") as f:\n",
    "    test_dataset = json.load(f)\n",
    "with open('data/training_set.json', encoding=\"utf8\") as f:\n",
    "    training_dataset = json.load(f)\n",
    "\n",
    "stats_intent = stats_by_intent(test_dataset, predictions)\n",
    "our_stats_intent = stats_by_intent(test_dataset, our_predictions)\n",
    "\n",
    "print_stats_by_intent(stats_intent)\n",
    "\n",
    "sum_prec = 0\n",
    "sum_rec = 0\n",
    "for intent in stats_intent:\n",
    "    sum_prec += stats_intent[intent][\"precision\"]\n",
    "    sum_rec += stats_intent[intent][\"recall\"]\n",
    "print(\"avg precision: \", (sum_prec/len(stats_intent)))\n",
    "print(\"avg recall: \", (sum_rec/len(stats_intent)))\n",
    "\n",
    "print_stats_by_intent(our_stats_intent)\n",
    "sum_prec = 0\n",
    "sum_rec = 0\n",
    "for intent in our_stats_intent:\n",
    "    sum_prec += our_stats_intent[intent][\"precision\"]\n",
    "    sum_rec += our_stats_intent[intent][\"recall\"]\n",
    "print(\"avg precision: \", (sum_prec/len(our_stats_intent)))\n",
    "print(\"avg recall: \", (sum_rec/len(our_stats_intent)))"
   ]
  },
  {
   "cell_type": "code",
   "execution_count": null,
   "metadata": {},
   "outputs": [],
   "source": [
    "import matplotlib.pyplot as plt\n",
    "from utils.predictions import get_detected_intent\n",
    "from utils.plot_utils import compute_scores, plot_confusion_matrix, compute_roc_auc_curve, Cleymevin_curve\n",
    "\n",
    "\n",
    "y_pred = []\n",
    "y_true = []\n",
    "y_pred_all = []\n",
    "lst_classe = [\"find-around-me\",\"find-flight\",\"find-hotel\",\"find-restaurant\",\"find-train\",\"irrelevant\",\"provide-showtimes\",\"purchase\"]\n",
    "lst_classe_bis = [\"find-around-me\",\"find-flight\",\"find-hotel\",\"find-restaurant\",\"find-train\",\"provide-showtimes\",\"purchase\"]\n",
    "pas = 0.001\n",
    "for i in range(len(test_dataset)):\n",
    "    y_pred.append(get_detected_intent(predictions[i]))\n",
    "    y_true.append(test_dataset[i][\"intent\"])\n",
    "    y_pred_all.append(predictions[i])\n",
    "\n",
    "\n",
    "compute_scores(y_pred,y_true,lst_classe)\n",
    "plot_confusion_matrix(y_pred,y_true,lst_classe)\n",
    "plt.figure()\n",
    "compute_roc_auc_curve(lst_classe,pas,y_pred_all,y_true)\n",
    "plt.figure()\n",
    "Cleymevin_curve(lst_classe_bis,pas,y_pred_all,y_true)"
   ]
  },
  {
   "cell_type": "code",
   "execution_count": null,
   "metadata": {},
   "outputs": [],
   "source": [
    "y_pred = []\n",
    "y_true = []\n",
    "y_pred_all = []\n",
    "lst_classe = [\"find-around-me\",\"find-flight\",\"find-hotel\",\"find-restaurant\",\"find-train\",\"irrelevant\",\"provide-showtimes\",\"purchase\"]\n",
    "lst_classe_bis = [\"find-around-me\",\"find-flight\",\"find-hotel\",\"find-restaurant\",\"find-train\",\"provide-showtimes\",\"purchase\"]\n",
    "pas = 0.001\n",
    "for i in range(len(test_dataset)):\n",
    "    y_pred.append(get_detected_intent(our_predictions[i]))\n",
    "    y_true.append(test_dataset[i][\"intent\"])\n",
    "    y_pred_all.append(our_predictions[i])\n",
    "\n",
    "\n",
    "compute_scores(y_pred,y_true,lst_classe)\n",
    "plot_confusion_matrix(y_pred,y_true,lst_classe)\n",
    "plt.figure()\n",
    "compute_roc_auc_curve(lst_classe,pas,y_pred_all,y_true)\n",
    "plt.figure()\n",
    "Cleymevin_curve(lst_classe_bis,pas,y_pred_all,y_true)"
   ]
  },
  {
   "cell_type": "code",
   "execution_count": null,
   "metadata": {},
   "outputs": [],
   "source": []
  }
 ],
 "metadata": {
  "kernelspec": {
   "display_name": "Python 3",
   "language": "python",
   "name": "python3"
  },
  "language_info": {
   "codemirror_mode": {
    "name": "ipython",
    "version": 3
   },
   "file_extension": ".py",
   "mimetype": "text/x-python",
   "name": "python",
   "nbconvert_exporter": "python",
   "pygments_lexer": "ipython3",
   "version": "3.8.5"
  }
 },
 "nbformat": 4,
 "nbformat_minor": 4
}
